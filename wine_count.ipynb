{
 "cells": [
  {
   "cell_type": "code",
   "execution_count": 11,
   "metadata": {},
   "outputs": [],
   "source": [
    "from sklearn import model_selection, preprocessing, linear_model, naive_bayes, metrics, svm\n",
    "from sklearn.neural_network import MLPClassifier\n",
    "from sklearn.neighbors import KNeighborsClassifier\n",
    "\n",
    "from sklearn.feature_extraction.text import TfidfVectorizer, CountVectorizer\n",
    "from sklearn import decomposition, ensemble\n",
    "from sklearn.metrics import classification_report\n",
    "import scipy.sparse\n",
    "import time\n",
    "import pickle\n",
    "from joblib import dump, load\n",
    "\n",
    "from scipy import sparse\n",
    "\n",
    "\n",
    "import pandas as pd\n",
    "import numpy as np\n",
    "import xgboost, textblob, string"
   ]
  },
  {
   "cell_type": "code",
   "execution_count": 12,
   "metadata": {},
   "outputs": [],
   "source": [
    "data = pd.read_csv('winemag-data_first150k.csv', index_col=0)\n",
    "#data.head()"
   ]
  },
  {
   "cell_type": "code",
   "execution_count": 13,
   "metadata": {},
   "outputs": [
    {
     "name": "stdout",
     "output_type": "stream",
     "text": [
      "<class 'pandas.core.frame.DataFrame'>\n",
      "Int64Index: 150925 entries, 0 to 150929\n",
      "Data columns (total 4 columns):\n",
      " #   Column       Non-Null Count   Dtype \n",
      "---  ------       --------------   ----- \n",
      " 0   description  150925 non-null  object\n",
      " 1   winery       150925 non-null  object\n",
      " 2   country      150925 non-null  object\n",
      " 3   class        150925 non-null  int64 \n",
      "dtypes: int64(1), object(3)\n",
      "memory usage: 5.8+ MB\n"
     ]
    }
   ],
   "source": [
    "conditions = [\n",
    "    (data['points'] <= 84),\n",
    "    (data['points'] > 84) & (data['points'] <= 88),\n",
    "    (data['points'] > 88) & (data['points'] <= 92),\n",
    "    (data['points'] > 92) & (data['points'] <= 96),\n",
    "    (data['points'] > 96) & (data['points'] <= 100)\n",
    "    ]\n",
    "\n",
    "# create a list of the values we want to assign for each condition\n",
    "class_list = [0,1,2,3,4]#['Low', 'OK', 'Good', 'Very Good', 'Excellent']\n",
    "\n",
    "# create a new column and use np.select to assign values to it using our lists as arguments\n",
    "data['class'] = np.select(conditions, class_list)\n",
    "\n",
    "data = data[['description','winery', 'country','class']] # selecting columns\n",
    "data = data.dropna() # deleting na rows\n",
    "data.info()"
   ]
  },
  {
   "cell_type": "code",
   "execution_count": 14,
   "metadata": {},
   "outputs": [],
   "source": [
    "data[\"united\"] = data[\"country\"] + \" \" + data['winery'] + \" \" + data[\"description\"]"
   ]
  },
  {
   "cell_type": "code",
   "execution_count": 15,
   "metadata": {},
   "outputs": [],
   "source": [
    "X_train, X_test, y_train, y_test = model_selection.train_test_split(data['united'],\n",
    "                                                                    data['class'],\n",
    "                                                                    test_size=0.33,\n",
    "                                                                    random_state=42)"
   ]
  },
  {
   "cell_type": "code",
   "execution_count": 16,
   "metadata": {},
   "outputs": [],
   "source": [
    "encoder = preprocessing.LabelEncoder()\n",
    "y_train = encoder.fit_transform(y_train)\n",
    "y_test = encoder.fit_transform(y_test)"
   ]
  },
  {
   "cell_type": "code",
   "execution_count": 17,
   "metadata": {},
   "outputs": [],
   "source": [
    "# create a count vectorizer object \n",
    "tfidf_vect = TfidfVectorizer(analyzer='word', token_pattern=r'\\w{1,}')\n",
    "tfidf_vect.fit(data['united'])\n",
    "\n",
    "# transform the training and validation data using count vectorizer object\n",
    "X_train =  tfidf_vect.transform(X_train)\n",
    "X_test =  tfidf_vect.transform(X_test)"
   ]
  },
  {
   "cell_type": "code",
   "execution_count": 20,
   "metadata": {},
   "outputs": [],
   "source": [
    "def train_model(classifier,as_features,X_train,X_test, y_train,y_test):\n",
    "    # fit the training dataset on the classifier\n",
    "    classifier.fit(X_train, y_train)\n",
    "    \n",
    "    dump(classifier,  type(classifier).__name__ + \"_\"+ as_features+'.joblib') \n",
    "    # predict the labels on validation dataset\n",
    "    predictions = classifier.predict(X_test)\n",
    "    \n",
    "    return metrics.accuracy_score(predictions, y_test)"
   ]
  },
  {
   "cell_type": "code",
   "execution_count": 21,
   "metadata": {},
   "outputs": [
    {
     "name": "stdout",
     "output_type": "stream",
     "text": [
      "Naive Bayes: 0.6332369594024816\n"
     ]
    }
   ],
   "source": [
    "# Naive Bayes on Tfidf Vectors\n",
    "accuracy = train_model(naive_bayes.MultinomialNB(),\"count\",X_train, X_test, y_train,y_test)\n",
    "print (\"Naive Bayes:\", accuracy)"
   ]
  },
  {
   "cell_type": "code",
   "execution_count": 22,
   "metadata": {},
   "outputs": [
    {
     "name": "stdout",
     "output_type": "stream",
     "text": [
      "Random Forest:  0.7888206240212022 time:  5.567138675848643 min\n"
     ]
    }
   ],
   "source": [
    "# RF on Tfidf Vectors\n",
    "a = time.time()\n",
    "accuracy = train_model(ensemble.RandomForestClassifier(n_jobs = -1),\"tfidf\",X_train,X_test, y_train,y_test)\n",
    "print (\"Random Forest: \", accuracy, 'time: ', (time.time() -a)/60 ,'min')"
   ]
  },
  {
   "cell_type": "code",
   "execution_count": 23,
   "metadata": {},
   "outputs": [
    {
     "name": "stdout",
     "output_type": "stream",
     "text": [
      "Decision Tree::  0.7387664136850982 time:  2.4126781384150187 min\n"
     ]
    }
   ],
   "source": [
    "# DT on Tfidf Vectors\n",
    "a = time.time()\n",
    "from sklearn.tree import DecisionTreeClassifier\n",
    "accuracy = train_model(DecisionTreeClassifier(criterion='gini' ),\"tfidf\",X_train,X_test, y_train,y_test)\n",
    "print (\"Decision Tree:: \", accuracy, 'time: ', (time.time() -a)/60 ,'min')"
   ]
  },
  {
   "cell_type": "code",
   "execution_count": 24,
   "metadata": {
    "scrolled": false
   },
   "outputs": [
    {
     "name": "stdout",
     "output_type": "stream",
     "text": [
      "Logistic Regression:  0.72918925430671 time:  1.3308545788129171 min\n"
     ]
    }
   ],
   "source": [
    "# LG on Tfidf Vectors\n",
    "a = time.time()\n",
    "accuracy = train_model(linear_model.LogisticRegression(max_iter = 500),\"tfidf\",X_train,X_test, y_train,y_test)\n",
    "print (\"Logistic Regression: \", accuracy, 'time: ', (time.time() -a)/60 ,'min')"
   ]
  },
  {
   "cell_type": "code",
   "execution_count": 32,
   "metadata": {},
   "outputs": [
    {
     "name": "stdout",
     "output_type": "stream",
     "text": [
      "MLP:  0.8069911255672008 time:  25.118510178724925 min\n"
     ]
    }
   ],
   "source": [
    "#MLP on Tfidf Vectors\n",
    "a = time.time()\n",
    "accuracy = train_model(MLPClassifier(), \"tfidf\",X_train,X_test, y_train,y_test)\n",
    "print (\"MLP: \", accuracy, 'time: ', (time.time() -a)/60 ,'min')"
   ]
  },
  {
   "cell_type": "code",
   "execution_count": 34,
   "metadata": {},
   "outputs": [
    {
     "name": "stdout",
     "output_type": "stream",
     "text": [
      "xgboost:  0.7120427257760109 time:  3.560242553551992 min\n"
     ]
    }
   ],
   "source": [
    "# xgboost on Tfidf Vectors\n",
    "a = time.time()\n",
    "accuracy = train_model(xgboost.XGBClassifier(),\"tfidf\",X_train.tocsc(),X_test.tocsc(), y_train,y_test)\n",
    "print (\"xgboost: Counting Vectors: \", accuracy, 'time: ', (time.time() -a)/60 ,'min')"
   ]
  },
  {
   "cell_type": "code",
   "execution_count": 29,
   "metadata": {},
   "outputs": [],
   "source": [
    "rf = load('RandomForestClassifier_tfidf.joblib')\n",
    "nb = load('MultinomialNB_count.joblib')\n",
    "lg = load('LogisticRegression_tfidf.joblib')\n",
    "mlp = load('MLPClassifier_tfidf.joblib')\n",
    "dt = load('DecisionTreeClassifier_tfidf.joblib')\n",
    "xgb = load('XGBClassifier_tfidf.joblib')"
   ]
  },
  {
   "cell_type": "code",
   "execution_count": 30,
   "metadata": {},
   "outputs": [],
   "source": [
    "rf_pred = rf.predict(X_test)\n",
    "nb_pred = nb.predict(X_test)\n",
    "lg_pred = lg.predict(X_test)\n",
    "mlp_pred = mlp.predict(X_test)\n",
    "dt_pred = dt.predict(X_test)\n",
    "xgb_pred = xgb.predict(X_test)"
   ]
  },
  {
   "cell_type": "code",
   "execution_count": 31,
   "metadata": {},
   "outputs": [
    {
     "name": "stdout",
     "output_type": "stream",
     "text": [
      "rf\n",
      "0.7888206240212022\n",
      "              precision    recall  f1-score   support\n",
      "\n",
      "           0       0.96      0.64      0.77      7679\n",
      "           1       0.75      0.92      0.83     22056\n",
      "           2       0.77      0.76      0.77     15917\n",
      "           3       1.00      0.46      0.63      3971\n",
      "           4       1.00      0.56      0.72       183\n",
      "\n",
      "    accuracy                           0.79     49806\n",
      "   macro avg       0.90      0.67      0.74     49806\n",
      "weighted avg       0.81      0.79      0.78     49806\n",
      "\n",
      "nb\n",
      "0.6332369594024816\n",
      "              precision    recall  f1-score   support\n",
      "\n",
      "           0       0.96      0.24      0.39      7679\n",
      "           1       0.62      0.89      0.73     22056\n",
      "           2       0.62      0.63      0.62     15917\n",
      "           3       0.97      0.02      0.04      3971\n",
      "           4       0.00      0.00      0.00       183\n",
      "\n",
      "    accuracy                           0.63     49806\n",
      "   macro avg       0.63      0.36      0.36     49806\n",
      "weighted avg       0.70      0.63      0.59     49806\n",
      "\n",
      "lg\n",
      "0.72918925430671\n",
      "              precision    recall  f1-score   support\n",
      "\n",
      "           0       0.83      0.65      0.73      7679\n",
      "           1       0.73      0.82      0.77     22056\n",
      "           2       0.69      0.73      0.71     15917\n",
      "           3       0.76      0.40      0.53      3971\n",
      "           4       1.00      0.04      0.07       183\n",
      "\n",
      "    accuracy                           0.73     49806\n",
      "   macro avg       0.80      0.53      0.56     49806\n",
      "weighted avg       0.74      0.73      0.72     49806\n",
      "\n"
     ]
    },
    {
     "name": "stderr",
     "output_type": "stream",
     "text": [
      "/home/maksym/.local/lib/python3.8/site-packages/sklearn/metrics/_classification.py:1221: UndefinedMetricWarning: Precision and F-score are ill-defined and being set to 0.0 in labels with no predicted samples. Use `zero_division` parameter to control this behavior.\n",
      "  _warn_prf(average, modifier, msg_start, len(result))\n"
     ]
    },
    {
     "name": "stdout",
     "output_type": "stream",
     "text": [
      "dt\n",
      "0.7387664136850982\n",
      "              precision    recall  f1-score   support\n",
      "\n",
      "           0       0.73      0.72      0.72      7679\n",
      "           1       0.76      0.79      0.77     22056\n",
      "           2       0.73      0.72      0.72     15917\n",
      "           3       0.66      0.59      0.62      3971\n",
      "           4       0.66      0.58      0.62       183\n",
      "\n",
      "    accuracy                           0.74     49806\n",
      "   macro avg       0.71      0.68      0.69     49806\n",
      "weighted avg       0.74      0.74      0.74     49806\n",
      "\n",
      "mlp\n",
      "0.8069911255672008\n",
      "              precision    recall  f1-score   support\n",
      "\n",
      "           0       0.81      0.83      0.82      7679\n",
      "           1       0.82      0.84      0.83     22056\n",
      "           2       0.80      0.77      0.79     15917\n",
      "           3       0.73      0.73      0.73      3971\n",
      "           4       0.86      0.63      0.73       183\n",
      "\n",
      "    accuracy                           0.81     49806\n",
      "   macro avg       0.80      0.76      0.78     49806\n",
      "weighted avg       0.81      0.81      0.81     49806\n",
      "\n",
      "xgb\n",
      "0.7120427257760109\n",
      "              precision    recall  f1-score   support\n",
      "\n",
      "           0       0.82      0.56      0.67      7679\n",
      "           1       0.70      0.83      0.76     22056\n",
      "           2       0.69      0.69      0.69     15917\n",
      "           3       0.81      0.41      0.54      3971\n",
      "           4       1.00      0.57      0.72       183\n",
      "\n",
      "    accuracy                           0.71     49806\n",
      "   macro avg       0.80      0.61      0.68     49806\n",
      "weighted avg       0.72      0.71      0.71     49806\n",
      "\n"
     ]
    }
   ],
   "source": [
    "print( \"rf\",metrics.accuracy_score(rf_pred, y_test),classification_report(y_test,rf_pred), sep = '\\n')\n",
    "print( \"nb\",metrics.accuracy_score(nb_pred, y_test),classification_report(y_test,nb_pred),sep = '\\n')\n",
    "print( \"lg\",metrics.accuracy_score(lg_pred, y_test),classification_report(y_test,lg_pred),sep = '\\n')\n",
    "print( \"dt\",metrics.accuracy_score(dt_pred, y_test),classification_report(y_test,dt_pred),sep = '\\n')\n",
    "print( \"mlp\",metrics.accuracy_score(mlp_pred, y_test),classification_report(y_test,mlp_pred),sep = '\\n')\n",
    "print( \"xgb\",metrics.accuracy_score(xgb_pred, y_test),classification_report(y_test,xgb_pred),sep = '\\n')"
   ]
  },
  {
   "cell_type": "code",
   "execution_count": null,
   "metadata": {},
   "outputs": [],
   "source": []
  }
 ],
 "metadata": {
  "kernelspec": {
   "display_name": "Python 3",
   "language": "python",
   "name": "python3"
  },
  "language_info": {
   "codemirror_mode": {
    "name": "ipython",
    "version": 3
   },
   "file_extension": ".py",
   "mimetype": "text/x-python",
   "name": "python",
   "nbconvert_exporter": "python",
   "pygments_lexer": "ipython3",
   "version": "3.8.2"
  }
 },
 "nbformat": 4,
 "nbformat_minor": 4
}
